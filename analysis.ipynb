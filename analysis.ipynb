{
 "cells": [
  {
   "cell_type": "code",
   "execution_count": 34,
   "metadata": {},
   "outputs": [],
   "source": [
    "import numpy as np \n",
    "import pandas as pd\n",
    "from sklearn import metrics\n",
    "import matplotlib.pyplot as plt \n",
    "%matplotlib qt\n",
    "\n",
    "df_raw = pd.read_csv('dataset/sinter_27000.csv')\n",
    "data = np.array(df_raw)\n",
    "preds = np.load('results/check_TCN_sinter_27000_ftMS_sl40_ll4_pl20_dm512_nh8_el2_dl1_df2048_atprob_fc5_dtTrue_Exp_0/pred.npy')\n",
    "trues = np.load('results/check_TCN_sinter_27000_ftMS_sl40_ll4_pl20_dm512_nh8_el2_dl1_df2048_atprob_fc5_dtTrue_Exp_0/true.npy')\n",
    "mean = np.array([-14.20067736,-14.36835474,98.7131974,419.94757219,85.03548647,406.51655405])\n",
    "var = np.array([1.23702907e+00,1.36719260e+00,3.65652871e+02,9.54663824e+02,3.83617617e+00,5.11087647e+02])\n",
    "preds_sd = (preds - mean) /  np.sqrt(var)\n",
    "trues_sd = (trues - mean) /  np.sqrt(var)"
   ]
  },
  {
   "cell_type": "code",
   "execution_count": 27,
   "metadata": {},
   "outputs": [
    {
     "data": {
      "text/plain": [
       "array([415.07300011, 414.15799981, 412.55300022, 411.38600013,\n",
       "       410.10799998])"
      ]
     },
     "execution_count": 27,
     "metadata": {},
     "output_type": "execute_result"
    }
   ],
   "source": [
    "trues[0,:,-1]"
   ]
  },
  {
   "cell_type": "code",
   "execution_count": 28,
   "metadata": {},
   "outputs": [
    {
     "data": {
      "text/plain": [
       "array([406.862, 402.467, 404.375, 404.375, 404.565, 404.672, 403.956,\n",
       "       402.573, 401.006, 405.947, 403.104, 393.426, 389.432, 387.468,\n",
       "       386.165, 385.016, 384.052, 383.066, 382.069, 380.17 , 377.908,\n",
       "       377.326, 377.732, 379.009, 381.068, 383.208, 386.644, 389.902,\n",
       "       393.096, 395.265, 397.458, 400.371, 406.005, 410.008, 412.745,\n",
       "       413.894, 413.855, 413.865, 414.318, 414.741])"
      ]
     },
     "execution_count": 28,
     "metadata": {},
     "output_type": "execute_result"
    }
   ],
   "source": [
    "data[21600-40:21600,-1]"
   ]
  },
  {
   "cell_type": "code",
   "execution_count": 35,
   "metadata": {},
   "outputs": [
    {
     "name": "stdout",
     "output_type": "stream",
     "text": [
      "[406.862      402.467      404.375      404.375      404.565\n",
      " 404.672      403.956      402.573      401.006      405.947\n",
      " 403.104      393.426      389.432      387.468      386.165\n",
      " 385.016      384.052      383.066      382.069      380.17\n",
      " 377.908      377.326      377.732      379.009      381.068\n",
      " 383.208      386.644      389.902      393.096      395.265\n",
      " 397.458      400.371      406.005      410.008      412.745\n",
      " 413.894      413.855      413.865      414.318      414.741\n",
      " 415.07300011 414.15799981 412.55300022 411.38600013 410.10799998\n",
      " 409.28899992 409.18399992 408.76000007 409.4979999  410.12200014\n",
      " 410.32699991 410.63400014 410.54799985 410.09599985 410.15900005\n",
      " 409.85000013 409.59800001 409.37000015 409.26099994 409.17900004]\n",
      "[406.862      402.467      404.375      404.375      404.565\n",
      " 404.672      403.956      402.573      401.006      405.947\n",
      " 403.104      393.426      389.432      387.468      386.165\n",
      " 385.016      384.052      383.066      382.069      380.17\n",
      " 377.908      377.326      377.732      379.009      381.068\n",
      " 383.208      386.644      389.902      393.096      395.265\n",
      " 397.458      400.371      406.005      410.008      412.745\n",
      " 413.894      413.855      413.865      414.318      414.741\n",
      " 409.2110644  409.53852082 409.51839292 409.16037796 409.38819574\n",
      " 409.79337056 410.27337458 409.90346915 409.30745743 408.03366821\n",
      " 408.78113977 408.3624984  408.15828136 406.20191686 405.27989174\n",
      " 403.61462636 403.10228443 401.4333899  399.74813742 397.73637094]\n"
     ]
    }
   ],
   "source": [
    "t_true=trues[0,:,-1]\n",
    "t_pred=preds[0,:,-1]\n",
    "t_in = data[21600-40:21600,-1]\n",
    "t_true = np.append(t_in,t_true)\n",
    "t_pred = np.append(t_in,t_pred)\n",
    "print(t_true)\n",
    "print(t_pred)\n",
    "plt.rcParams[\"font.weight\"] = \"bold\"\n",
    "plt.rcParams[\"axes.labelweight\"] = \"bold\"\n",
    "plt.figure()\n",
    "plt.plot(np.linspace(-39,20,60),t_pred,color='r',label='pred')\n",
    "plt.plot(np.linspace(-39,20,60),t_true,color='b',label='true')\n",
    "plt.legend(loc='upper left')\n",
    "plt.xlabel('time (min)')\n",
    "plt.ylabel('SV6 (kPa)')\n",
    "plt.savefig('FIGs/seqpic/sv6-20min.jpg',dpi=600)\n",
    "plt.show()\n"
   ]
  },
  {
   "cell_type": "code",
   "execution_count": null,
   "metadata": {},
   "outputs": [],
   "source": [
    "mse = metrics.mean_squared_error(preds_sd.flatten(),trues_sd.flatten())\n",
    "mae = metrics.mean_absolute_error(preds_sd.flatten(),trues_sd.flatten())\n",
    "print(mse)\n",
    "print(mae)"
   ]
  },
  {
   "cell_type": "code",
   "execution_count": 19,
   "metadata": {},
   "outputs": [],
   "source": [
    "# for i in range(10):\n",
    "#  #特定维度，0-9表示预测1-10分钟后的数据\n",
    "i=9\n",
    "pred_sd=preds_sd[:,i,:]\n",
    "true_sd=trues_sd[:,i,:]\n",
    "pred = preds[:,i,:]\n",
    "true = trues[:,i,:]      \n",
    "\n",
    "\n",
    "\n",
    "# mse = metrics.mean_squared_error(pred_sd,true_sd)\n",
    "# mae = metrics.mean_absolute_error(pred_sd,true_sd)\n",
    "# print(mse)\n",
    "# print(mae)\n",
    "\n",
    "# mae0 = metrics.mean_absolute_error(pred[:,0],true[:,0])\n",
    "# mae1 = metrics.mean_absolute_error(pred[:,1],true[:,1])\n",
    "# mae2 = metrics.mean_absolute_error(pred[:,2],true[:,2])\n",
    "# mae3 = metrics.mean_absolute_error(pred[:,3],true[:,3])\n",
    "# mae4 = metrics.mean_absolute_error(pred[:,4],true[:,4])\n",
    "# mae5 = metrics.mean_absolute_error(pred[:,5],true[:,5])\n",
    "# print(mae0)\n",
    "# print(mae1)\n",
    "# print(mae2)\n",
    "# print(mae3)\n",
    "# print(mae4)\n",
    "# print(mae5)"
   ]
  },
  {
   "cell_type": "code",
   "execution_count": 25,
   "metadata": {},
   "outputs": [],
   "source": [
    "plt.rcParams[\"font.weight\"] = \"bold\"\n",
    "plt.rcParams[\"axes.labelweight\"] = \"bold\"\n",
    "plt.figure()\n",
    "plt.plot(pred[:,5],color='r',label='pred',linewidth =0.5)\n",
    "plt.plot(true[:,5],color='b',label='true',linewidth =0.5)\n",
    "plt.legend()\n",
    "plt.xlabel('Time (min)')\n",
    "# plt.ylabel('SV1 (kPa)')\n",
    "# plt.ylabel('SV2 (kPa)')\n",
    "# plt.ylabel('SV3 (℃)')\n",
    "# plt.ylabel('SV4 (℃)')\n",
    "# plt.ylabel('SV5 (m)')\n",
    "plt.ylabel('SV6 (℃)')\n",
    "plt.savefig('FIGs/pointpic/sv6-10min.jpg',dpi=600)\n",
    "plt.show()"
   ]
  },
  {
   "cell_type": "code",
   "execution_count": null,
   "metadata": {},
   "outputs": [],
   "source": [
    "import pandas as pd\n",
    "import numpy as np\n",
    "df = pd.read_csv('dataset/sinter_27000.csv')\n",
    "\n",
    "import matplotlib.pyplot as plt \n",
    "%matplotlib qt"
   ]
  },
  {
   "cell_type": "code",
   "execution_count": null,
   "metadata": {},
   "outputs": [],
   "source": [
    "sv = np.array(df.iloc[:,-6:])\n",
    "mean = np.array([-14.20067736,-14.36835474,98.7131974,419.94757219,85.03548647,406.51655405])\n",
    "var = np.array([1.23702907e+00,1.36719260e+00,3.65652871e+02,9.54663824e+02,3.83617617e+00,5.11087647e+02])\n",
    "sv_sd = (sv - mean) / np.sqrt(var) #标准化"
   ]
  },
  {
   "cell_type": "code",
   "execution_count": null,
   "metadata": {},
   "outputs": [],
   "source": [
    "plt.figure()\n",
    "plt.plot(sv[:,5],linewidth =0.5)\n",
    "plt.savefig('FIGs/sv6.jpg',dpi=600)\n",
    "plt.show()"
   ]
  },
  {
   "cell_type": "code",
   "execution_count": null,
   "metadata": {},
   "outputs": [],
   "source": [
    "plt.figure()\n",
    "plt.plot(sv_sd[:,0],linewidth =0.5)\n",
    "plt.savefig('FIGs/sv1_sd.jpg',dpi=600)\n",
    "plt.show()"
   ]
  }
 ],
 "metadata": {
  "interpreter": {
   "hash": "ff15b7c8391d4fb308e5c039f71bd84a9d9d5f027877539ea7c8a09ce40872c1"
  },
  "kernelspec": {
   "display_name": "Python 3.7.0 64-bit ('base': conda)",
   "name": "python3"
  },
  "language_info": {
   "codemirror_mode": {
    "name": "ipython",
    "version": 3
   },
   "file_extension": ".py",
   "mimetype": "text/x-python",
   "name": "python",
   "nbconvert_exporter": "python",
   "pygments_lexer": "ipython3",
   "version": "3.7.0"
  },
  "orig_nbformat": 4
 },
 "nbformat": 4,
 "nbformat_minor": 2
}
